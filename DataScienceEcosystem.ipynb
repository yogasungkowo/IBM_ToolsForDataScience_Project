{
 "cells": [
  {
   "cell_type": "markdown",
   "id": "1e12c9e6-a1f5-44fc-9362-03bd625594a2",
   "metadata": {
    "tags": []
   },
   "source": [
    "## Author\n",
    "Prayoga Sungkowo\n",
    "# Data Science Tools and Ecosystem\n",
    "In this notebook, Data Science Tools and Ecosystem are summarized.\n",
    "**Objectives:**\n",
    "- Create markdown cell with title of the notebook\n",
    "- Create a markdown cell for an introduction\n",
    "- Create a markdown cell to list data science languages\n",
    "- Create a markdown cell to list data science libraries\n",
    "- Create a markdown cell with a table of Data Science tools\n",
    "- Create a markdown cell introducing arithmetic expression examples\n",
    "- Create a code cell to multiply and add numbers\n",
    "- Create a code cell to convert minutes to hours\n",
    "- Insert a markdown cell to list Objectives\n",
    "- Create a markdown cell to indicate the Author's name\n",
    "- Share your notebook through GitHub\n",
    "- Take a screenshot of the first page of the notebook and save it as 1-notebook.png\n",
    "Some of the popular languages that Data Scientists use are:\n",
    "    * R\n",
    "    * Python\n",
    "    * Julia\n",
    "Some of the commonly used libraries used by Data Scientists include:\n",
    "    * NumPy\n",
    "    * Pandas\n",
    "    * Matplotlib\n",
    "    \n",
    "| Data Science Tools            |\n",
    "| ----------------------------- |\n",
    "| Jupyter Notebook              |\n",
    "| R Studio                      |\n",
    "| Visual Studio Code (VS Code   |\n",
    "\n",
    "### Below are a few examples of evaluating arithmetic expressions in Python"
   ]
  },
  {
   "cell_type": "code",
   "execution_count": 1,
   "id": "e759fd0e-ea4a-4dd4-905e-1169180f2286",
   "metadata": {
    "tags": []
   },
   "outputs": [
    {
     "name": "stdout",
     "output_type": "stream",
     "text": [
      "17\n"
     ]
    }
   ],
   "source": [
    "# This a simple arithmetic expression to mutiply then add integers\n",
    "p = (3*4)+5\n",
    "print(p)"
   ]
  },
  {
   "cell_type": "code",
   "execution_count": 2,
   "id": "3b95947a-9074-4acd-91b1-ddc825e44c48",
   "metadata": {
    "tags": []
   },
   "outputs": [
    {
     "name": "stdout",
     "output_type": "stream",
     "text": [
      "3.3333333333333335\n"
     ]
    }
   ],
   "source": [
    "# This will convert 200 minutes to hours by diving by 60\n",
    "minutes = 200\n",
    "hours = minutes / 60\n",
    "print(hours)"
   ]
  },
  {
   "cell_type": "code",
   "execution_count": null,
   "id": "b218d385-4966-4557-910b-67d0d3af201d",
   "metadata": {},
   "outputs": [],
   "source": []
  }
 ],
 "metadata": {
  "kernelspec": {
   "display_name": "Python",
   "language": "python",
   "name": "conda-env-python-py"
  },
  "language_info": {
   "codemirror_mode": {
    "name": "ipython",
    "version": 3
   },
   "file_extension": ".py",
   "mimetype": "text/x-python",
   "name": "python",
   "nbconvert_exporter": "python",
   "pygments_lexer": "ipython3",
   "version": "3.7.12"
  }
 },
 "nbformat": 4,
 "nbformat_minor": 5
}
